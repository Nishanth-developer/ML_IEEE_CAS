{
  "nbformat": 4,
  "nbformat_minor": 0,
  "metadata": {
    "colab": {
      "name": "20BCE0118-Nishanth-IEEE CAS TASK 2.ipynb",
      "provenance": [],
      "collapsed_sections": [],
      "authorship_tag": "ABX9TyNr7CjdDvo5zCAdOqnrXern",
      "include_colab_link": true
    },
    "kernelspec": {
      "name": "python3",
      "display_name": "Python 3"
    },
    "language_info": {
      "name": "python"
    }
  },
  "cells": [
    {
      "cell_type": "markdown",
      "metadata": {
        "id": "view-in-github",
        "colab_type": "text"
      },
      "source": [
        "<a href=\"https://colab.research.google.com/github/Nishanth-developer/ML_IEEE_CAS/blob/main/20BCE0118_Nishanth_IEEE_CAS_TASK_2.ipynb\" target=\"_parent\"><img src=\"https://colab.research.google.com/assets/colab-badge.svg\" alt=\"Open In Colab\"/></a>"
      ]
    },
    {
      "cell_type": "code",
      "metadata": {
        "id": "GnbnVYvHJWGo"
      },
      "source": [
        "import numpy as np\n",
        "import pandas as pd\n",
        "import matplotlib.pyplot as plt\n",
        "from sklearn.impute import SimpleImputer\n",
        "from sklearn.preprocessing import StandardScaler,PolynomialFeatures\n",
        "from sklearn.model_selection import train_test_split\n",
        "from sklearn.linear_model import LinearRegression\n",
        "from sklearn.tree import DecisionTreeRegressor\n",
        "from sklearn.ensemble import RandomForestRegressor\n",
        "from sklearn.svm import SVR\n",
        "from sklearn import metrics"
      ],
      "execution_count": null,
      "outputs": []
    },
    {
      "cell_type": "code",
      "metadata": {
        "id": "L5hHcz-2JbxY"
      },
      "source": [
        "X = np.array([1,2,3,5,6,7,8,9,10,12,13,14,15,16,18,19,21,22])\n",
        "Y = np.array([100,90,80,60,60,55,60,65,70,70,75,76,78,79,90,99,99,100])"
      ],
      "execution_count": null,
      "outputs": []
    },
    {
      "cell_type": "code",
      "metadata": {
        "id": "Ia0_38Q8JkwF"
      },
      "source": [
        "X_train=X[0:14]\n",
        "Y_train=Y[0:14]\n",
        "X_test=X[14:19]\n",
        "Y_test=Y[14:19]\n",
        "X_train=np.reshape(X_train,(14,1))\n",
        "X_test=np.reshape(X_test,(4,1))\n",
        "main_dict=dict()"
      ],
      "execution_count": null,
      "outputs": []
    },
    {
      "cell_type": "code",
      "metadata": {
        "id": "zOfTKJmBJyl9"
      },
      "source": [
        "l_model=LinearRegression()\n",
        "l_model.fit(X_train,Y_train)\n",
        "Y_pred_l=l_model.predict(X_test)\n",
        "u1=np.sqrt(metrics.mean_squared_error(Y_test, Y_pred_l))\n",
        "main_dict['Linear_Regression']=u1"
      ],
      "execution_count": null,
      "outputs": []
    },
    {
      "cell_type": "code",
      "metadata": {
        "colab": {
          "base_uri": "https://localhost:8080/",
          "height": 282
        },
        "id": "0QBdkoJTNzkr",
        "outputId": "cf4c9034-ada7-4d01-f804-a7f51dd16b03"
      },
      "source": [
        "plt.scatter(X_train,Y_train,color='blue')\n",
        "plt.plot(X_train,l_model.predict(X_train),color='red')"
      ],
      "execution_count": null,
      "outputs": [
        {
          "output_type": "execute_result",
          "data": {
            "text/plain": [
              "[<matplotlib.lines.Line2D at 0x7fc931e588d0>]"
            ]
          },
          "metadata": {
            "tags": []
          },
          "execution_count": 185
        },
        {
          "output_type": "display_data",
          "data": {
            "image/png": "[encoded data removed]",
            "text/plain": [
              "<Figure size 432x288 with 1 Axes>"
            ]
          },
          "metadata": {
            "tags": [],
            "needs_background": "light"
          }
        }
      ]
    },
    {
      "cell_type": "code",
      "metadata": {
        "colab": {
          "base_uri": "https://localhost:8080/"
        },
        "id": "JUAb-3MbJ2TW",
        "outputId": "fa4a5952-90a8-4fbd-f37e-d0b9f443ffaf"
      },
      "source": [
        "p_model=PolynomialFeatures(degree=4)\n",
        "p_model1=PolynomialFeatures(degree=2)\n",
        "p_model2=PolynomialFeatures(degree=3)\n",
        "Xp1=p_model1.fit_transform(X_train)\n",
        "Xp2=p_model2.fit_transform(X_train)\n",
        "Xp=p_model.fit_transform(X_train)\n",
        "print(pd.DataFrame(Xp))"
      ],
      "execution_count": null,
      "outputs": [
        {
          "output_type": "stream",
          "text": [
            "      0     1      2       3        4\n",
            "0   1.0   1.0    1.0     1.0      1.0\n",
            "1   1.0   2.0    4.0     8.0     16.0\n",
            "2   1.0   3.0    9.0    27.0     81.0\n",
            "3   1.0   5.0   25.0   125.0    625.0\n",
            "4   1.0   6.0   36.0   216.0   1296.0\n",
            "5   1.0   7.0   49.0   343.0   2401.0\n",
            "6   1.0   8.0   64.0   512.0   4096.0\n",
            "7   1.0   9.0   81.0   729.0   6561.0\n",
            "8   1.0  10.0  100.0  1000.0  10000.0\n",
            "9   1.0  12.0  144.0  1728.0  20736.0\n",
            "10  1.0  13.0  169.0  2197.0  28561.0\n",
            "11  1.0  14.0  196.0  2744.0  38416.0\n",
            "12  1.0  15.0  225.0  3375.0  50625.0\n",
            "13  1.0  16.0  256.0  4096.0  65536.0\n"
          ],
          "name": "stdout"
        }
      ]
    },
    {
      "cell_type": "code",
      "metadata": {
        "id": "2fFLBMG7J4su"
      },
      "source": [
        "plreg=LinearRegression()\n",
        "plreg1=LinearRegression()\n",
        "plreg2=LinearRegression()\n",
        "plreg.fit(Xp,Y_train)\n",
        "plreg1.fit(Xp1,Y_train)\n",
        "plreg2.fit(Xp2,Y_train)\n",
        "u2=np.sqrt(metrics.mean_squared_error(Y_test, plreg.predict(p_model.fit_transform(X_test))))\n",
        "u3=np.sqrt(metrics.mean_squared_error(Y_test, plreg2.predict(p_model2.fit_transform(X_test))))\n",
        "u4=np.sqrt(metrics.mean_squared_error(Y_test, plreg1.predict(p_model1.fit_transform(X_test))))\n",
        "main_dict['Polynomial_Regression_d4']=u2\n",
        "main_dict['Polynomial_Regression_d3']=u3\n",
        "main_dict['Polynomial_Regression_d2']=u4"
      ],
      "execution_count": null,
      "outputs": []
    },
    {
      "cell_type": "code",
      "metadata": {
        "colab": {
          "base_uri": "https://localhost:8080/",
          "height": 265
        },
        "id": "Tl4J8yQFJ94m",
        "outputId": "cc346799-8532-4b89-f891-78ef9be99ae8"
      },
      "source": [
        "plt.scatter(X_train,Y_train,color='red')\n",
        "plt.plot(X_train,plreg.predict(p_model.fit_transform(X_train)),color='blue')\n",
        "plt.plot(X_train,plreg1.predict(p_model1.fit_transform(X_train)),color='green')\n",
        "plt.plot(X_train,plreg2.predict(p_model2.fit_transform(X_train)),color='black')\n",
        "plt.show()"
      ],
      "execution_count": null,
      "outputs": [
        {
          "output_type": "display_data",
          "data": {
            "image/png": "[encoded data removed]",
            "text/plain": [
              "<Figure size 432x288 with 1 Axes>"
            ]
          },
          "metadata": {
            "tags": [],
            "needs_background": "light"
          }
        }
      ]
    },
    {
      "cell_type": "code",
      "metadata": {
        "id": "K767D-GOKAG9"
      },
      "source": [
        "xs1=StandardScaler()\n",
        "ys1=StandardScaler()\n",
        "yd=np.reshape(Y_train,(14,1))\n",
        "xs=xs1.fit_transform(X_train)\n",
        "ys=ys1.fit_transform(yd)"
      ],
      "execution_count": null,
      "outputs": []
    },
    {
      "cell_type": "code",
      "metadata": {
        "colab": {
          "base_uri": "https://localhost:8080/"
        },
        "id": "qqUnb9O_Y2nG",
        "outputId": "d157aab0-b184-4a63-c433-214369ae74a4"
      },
      "source": [
        "s_model=SVR(kernel='rbf')\n",
        "s_model.fit(xs,ys)"
      ],
      "execution_count": null,
      "outputs": [
        {
          "output_type": "stream",
          "text": [
            "/usr/local/lib/python3.7/dist-packages/sklearn/utils/validation.py:760: DataConversionWarning: A column-vector y was passed when a 1d array was expected. Please change the shape of y to (n_samples, ), for example using ravel().\n",
            "  y = column_or_1d(y, warn=True)\n"
          ],
          "name": "stderr"
        },
        {
          "output_type": "execute_result",
          "data": {
            "text/plain": [
              "SVR(C=1.0, cache_size=200, coef0=0.0, degree=3, epsilon=0.1, gamma='scale',\n",
              "    kernel='rbf', max_iter=-1, shrinking=True, tol=0.001, verbose=False)"
            ]
          },
          "metadata": {
            "tags": []
          },
          "execution_count": 190
        }
      ]
    },
    {
      "cell_type": "code",
      "metadata": {
        "colab": {
          "base_uri": "https://localhost:8080/",
          "height": 282
        },
        "id": "856PKMQeZuCi",
        "outputId": "32f88c01-8b6d-48d6-ea46-027f2985c3fb"
      },
      "source": [
        "main_dict['SVR model']=np.sqrt(metrics.mean_squared_error(Y_test, s_model.predict(X_test)))\n",
        "plt.scatter(xs,ys,color='blue')\n",
        "plt.plot(xs,s_model.predict(xs),color='red')"
      ],
      "execution_count": null,
      "outputs": [
        {
          "output_type": "execute_result",
          "data": {
            "text/plain": [
              "[<matplotlib.lines.Line2D at 0x7fc931d453d0>]"
            ]
          },
          "metadata": {
            "tags": []
          },
          "execution_count": 191
        },
        {
          "output_type": "display_data",
          "data": {
            "image/png": "[encoded data removed]",
            "text/plain": [
              "<Figure size 432x288 with 1 Axes>"
            ]
          },
          "metadata": {
            "tags": [],
            "needs_background": "light"
          }
        }
      ]
    },
    {
      "cell_type": "code",
      "metadata": {
        "colab": {
          "base_uri": "https://localhost:8080/"
        },
        "id": "kgzfXB_KZ1lS",
        "outputId": "e2021ecc-8e30-4354-9208-7772f0ec969a"
      },
      "source": [
        "d_model=DecisionTreeRegressor(random_state=0)\n",
        "d_model.fit(X_train,Y_train)"
      ],
      "execution_count": null,
      "outputs": [
        {
          "output_type": "execute_result",
          "data": {
            "text/plain": [
              "DecisionTreeRegressor(ccp_alpha=0.0, criterion='mse', max_depth=None,\n",
              "                      max_features=None, max_leaf_nodes=None,\n",
              "                      min_impurity_decrease=0.0, min_impurity_split=None,\n",
              "                      min_samples_leaf=1, min_samples_split=2,\n",
              "                      min_weight_fraction_leaf=0.0, presort='deprecated',\n",
              "                      random_state=0, splitter='best')"
            ]
          },
          "metadata": {
            "tags": []
          },
          "execution_count": 192
        }
      ]
    },
    {
      "cell_type": "code",
      "metadata": {
        "colab": {
          "base_uri": "https://localhost:8080/",
          "height": 265
        },
        "id": "IulWn03eazma",
        "outputId": "fbb7b351-5420-4b8b-ccb4-70d0944d8996"
      },
      "source": [
        "X_grid=np.arange(min(X_train),max(X_train),0.01)\n",
        "X_grid=X_grid.reshape((len(X_grid),1))\n",
        "plt.scatter(X_train,Y_train,color='blue')\n",
        "plt.plot(X_grid,d_model.predict(X_grid),color='red')\n",
        "main_dict['Decision tree model']=np.sqrt(metrics.mean_squared_error(Y_test, d_model.predict(X_test)))"
      ],
      "execution_count": null,
      "outputs": [
        {
          "output_type": "display_data",
          "data": {
            "image/png": "[encoded data removed]",
            "text/plain": [
              "<Figure size 432x288 with 1 Axes>"
            ]
          },
          "metadata": {
            "tags": [],
            "needs_background": "light"
          }
        }
      ]
    },
    {
      "cell_type": "code",
      "metadata": {
        "colab": {
          "base_uri": "https://localhost:8080/"
        },
        "id": "d6s-rBsYa5xy",
        "outputId": "9a69510e-5038-41d7-f26e-ee2357cc807c"
      },
      "source": [
        "r_model=RandomForestRegressor(n_estimators=300,random_state=0)\n",
        "r_model.fit(X_train,Y_train)"
      ],
      "execution_count": null,
      "outputs": [
        {
          "output_type": "execute_result",
          "data": {
            "text/plain": [
              "RandomForestRegressor(bootstrap=True, ccp_alpha=0.0, criterion='mse',\n",
              "                      max_depth=None, max_features='auto', max_leaf_nodes=None,\n",
              "                      max_samples=None, min_impurity_decrease=0.0,\n",
              "                      min_impurity_split=None, min_samples_leaf=1,\n",
              "                      min_samples_split=2, min_weight_fraction_leaf=0.0,\n",
              "                      n_estimators=300, n_jobs=None, oob_score=False,\n",
              "                      random_state=0, verbose=0, warm_start=False)"
            ]
          },
          "metadata": {
            "tags": []
          },
          "execution_count": 194
        }
      ]
    },
    {
      "cell_type": "code",
      "metadata": {
        "colab": {
          "base_uri": "https://localhost:8080/",
          "height": 265
        },
        "id": "cAe6zru5dSri",
        "outputId": "15570cce-1fc0-45ef-c98f-6547c7bd569e"
      },
      "source": [
        "X_grid=np.arange(min(X_train),max(X_train),0.01)\n",
        "X_grid=X_grid.reshape((len(X_grid),1))\n",
        "plt.scatter(X_train,Y_train,color='blue')\n",
        "plt.plot(X_grid,r_model.predict(X_grid),color='red')\n",
        "main_dict['Random forest model']=np.sqrt(metrics.mean_squared_error(Y_test, r_model.predict(X_test)))"
      ],
      "execution_count": null,
      "outputs": [
        {
          "output_type": "display_data",
          "data": {
            "image/png": "[encoded data removed]",
            "text/plain": [
              "<Figure size 432x288 with 1 Axes>"
            ]
          },
          "metadata": {
            "tags": [],
            "needs_background": "light"
          }
        }
      ]
    },
    {
      "cell_type": "code",
      "metadata": {
        "colab": {
          "base_uri": "https://localhost:8080/"
        },
        "id": "EgxbFkbHdeMC",
        "outputId": "aa61d59c-fa7c-4f77-ae86-e2da4b3ce476"
      },
      "source": [
        "minn=min(main_dict.values())\n",
        "for i,j in main_dict.items():\n",
        "  if j==minn:\n",
        "    print(f\"The model with highest performance is {i} with RMSE of {j}.\")\n",
        "    break"
      ],
      "execution_count": null,
      "outputs": [
        {
          "output_type": "stream",
          "text": [
            "The model with highest performance is Decision tree model with RMSE of 18.452642087245934.\n"
          ],
          "name": "stdout"
        }
      ]
    },
    {
      "cell_type": "markdown",
      "metadata": {
        "id": "r_kkD9gClAkd"
      },
      "source": [
        "Reference::"
      ]
    },
    {
      "cell_type": "code",
      "metadata": {
        "colab": {
          "base_uri": "https://localhost:8080/"
        },
        "id": "XaM1MGiwkDdU",
        "outputId": "5ebd2a3a-9db0-44ae-c765-7b64df593bdf"
      },
      "source": [
        "main_dict"
      ],
      "execution_count": null,
      "outputs": [
        {
          "output_type": "execute_result",
          "data": {
            "text/plain": [
              "{'Decision tree model': 18.452642087245934,\n",
              " 'Linear_Regression': 30.288235320094213,\n",
              " 'Polynomial_Regression_d2': 33.11110542815719,\n",
              " 'Polynomial_Regression_d3': 54.388898795826115,\n",
              " 'Polynomial_Regression_d4': 56.549181668882284,\n",
              " 'Random forest model': 19.009074148942652,\n",
              " 'SVR model': 96.77144389770866}"
            ]
          },
          "metadata": {
            "tags": []
          },
          "execution_count": 204
        }
      ]
    },
    {
      "cell_type": "code",
      "metadata": {
        "id": "qvW0ckeWlDNf"
      },
      "source": [
        ""
      ],
      "execution_count": null,
      "outputs": []
    }
  ]
}